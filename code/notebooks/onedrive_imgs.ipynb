{
 "cells": [
  {
   "cell_type": "code",
   "execution_count": null,
   "id": "8106da8d",
   "metadata": {},
   "outputs": [
    {
     "ename": "ModuleNotFoundError",
     "evalue": "No module named 'code.source'; 'code' is not a package",
     "output_type": "error",
     "traceback": [
      "\u001b[0;31m---------------------------------------------------------------------------\u001b[0m",
      "\u001b[0;31mModuleNotFoundError\u001b[0m                       Traceback (most recent call last)",
      "Cell \u001b[0;32mIn[2], line 11\u001b[0m\n\u001b[1;32m      7\u001b[0m sys\u001b[38;5;241m.\u001b[39mpath\u001b[38;5;241m.\u001b[39minsert(\u001b[38;5;241m0\u001b[39m, \u001b[38;5;124m\"\u001b[39m\u001b[38;5;124m/home/diego/Coding/Python/TFG_HCCAI\u001b[39m\u001b[38;5;124m\"\u001b[39m)\n\u001b[1;32m      9\u001b[0m \u001b[38;5;28;01mfrom\u001b[39;00m\u001b[38;5;250m \u001b[39m\u001b[38;5;21;01msource\u001b[39;00m\u001b[38;5;21;01m.\u001b[39;00m\u001b[38;5;21;01mutils\u001b[39;00m\u001b[38;5;21;01m.\u001b[39;00m\u001b[38;5;21;01mfiles\u001b[39;00m\u001b[38;5;250m \u001b[39m\u001b[38;5;28;01mimport\u001b[39;00m get_newest_file\n\u001b[0;32m---> 11\u001b[0m \u001b[38;5;28;01mfrom\u001b[39;00m\u001b[38;5;250m \u001b[39m\u001b[38;5;21;01mscripts\u001b[39;00m\u001b[38;5;21;01m.\u001b[39;00m\u001b[38;5;21;01mpreprocessing\u001b[39;00m\u001b[38;5;21;01m.\u001b[39;00m\u001b[38;5;21;01monedrive_preprocessing\u001b[39;00m\u001b[38;5;250m \u001b[39m\u001b[38;5;28;01mimport\u001b[39;00m livers_to_csv\n",
      "File \u001b[0;32m~/Coding/Python/TFG_HCCAI/code/scripts/preprocessing/onedrive_preprocessing.py:17\u001b[0m\n\u001b[1;32m     15\u001b[0m \u001b[38;5;28;01mif\u001b[39;00m \u001b[38;5;18m__name__\u001b[39m \u001b[38;5;241m==\u001b[39m \u001b[38;5;124m'\u001b[39m\u001b[38;5;124m__main__\u001b[39m\u001b[38;5;124m'\u001b[39m:\n\u001b[1;32m     16\u001b[0m     sys\u001b[38;5;241m.\u001b[39mpath\u001b[38;5;241m.\u001b[39minsert(\u001b[38;5;241m0\u001b[39m, os\u001b[38;5;241m.\u001b[39mpath\u001b[38;5;241m.\u001b[39mabspath(\u001b[38;5;124m'\u001b[39m\u001b[38;5;124m./code\u001b[39m\u001b[38;5;124m'\u001b[39m))\n\u001b[0;32m---> 17\u001b[0m \u001b[38;5;28;01mfrom\u001b[39;00m\u001b[38;5;250m \u001b[39m\u001b[38;5;21;01mcode\u001b[39;00m\u001b[38;5;21;01m.\u001b[39;00m\u001b[38;5;21;01msource\u001b[39;00m\u001b[38;5;21;01m.\u001b[39;00m\u001b[38;5;21;01mconfig\u001b[39;00m\u001b[38;5;21;01m.\u001b[39;00m\u001b[38;5;21;01mpaths\u001b[39;00m\u001b[38;5;250m \u001b[39m\u001b[38;5;28;01mimport\u001b[39;00m Dirs\n\u001b[1;32m     18\u001b[0m \u001b[38;5;28;01mfrom\u001b[39;00m\u001b[38;5;250m \u001b[39m\u001b[38;5;21;01mcode\u001b[39;00m\u001b[38;5;21;01m.\u001b[39;00m\u001b[38;5;21;01msource\u001b[39;00m\u001b[38;5;21;01m.\u001b[39;00m\u001b[38;5;21;01mconfig\u001b[39;00m\u001b[38;5;21;01m.\u001b[39;00m\u001b[38;5;21;01mimages\u001b[39;00m\u001b[38;5;250m \u001b[39m\u001b[38;5;28;01mimport\u001b[39;00m USMode\n\u001b[1;32m     19\u001b[0m \u001b[38;5;28;01mfrom\u001b[39;00m\u001b[38;5;250m \u001b[39m\u001b[38;5;21;01mcode\u001b[39;00m\u001b[38;5;21;01m.\u001b[39;00m\u001b[38;5;21;01msource\u001b[39;00m\u001b[38;5;21;01m.\u001b[39;00m\u001b[38;5;21;01mconfig\u001b[39;00m\u001b[38;5;21;01m.\u001b[39;00m\u001b[38;5;21;01mcategories\u001b[39;00m\u001b[38;5;250m \u001b[39m\u001b[38;5;28;01mimport\u001b[39;00m Categories\n",
      "\u001b[0;31mModuleNotFoundError\u001b[0m: No module named 'code.source'; 'code' is not a package"
     ]
    }
   ],
   "source": [
    "import os\n",
    "import sys\n",
    "import pandas as pd\n",
    "import numpy as np\n",
    "from pathlib import Path\n",
    "\n",
    "sys.path.insert(0, \"/home/diego/Coding/Python/TFG_HCCAI\")\n",
    "\n",
    "from source.utils.files import get_newest_file\n"
   ]
  },
  {
   "cell_type": "markdown",
   "id": "30ddd1eb",
   "metadata": {},
   "source": [
    "# EDA"
   ]
  },
  {
   "cell_type": "markdown",
   "id": "536360a2",
   "metadata": {},
   "source": [
    "## Pre Preprocessing"
   ]
  },
  {
   "cell_type": "code",
   "execution_count": null,
   "id": "0bad1d30",
   "metadata": {},
   "outputs": [],
   "source": [
    "img_dir=csv_path=Path.cwd()/\"../../data/images/OneDrive\""
   ]
  },
  {
   "cell_type": "code",
   "execution_count": null,
   "id": "8eb5591f",
   "metadata": {},
   "outputs": [
    {
     "data": {
      "text/plain": [
       "[category\n",
       " CIRROSIS    476\n",
       " SANO        274\n",
       " HCC         204\n",
       " Name: count, dtype: int64,\n",
       " category\n",
       " CIRROSIS    49.90\n",
       " SANO        28.72\n",
       " HCC         21.38\n",
       " Name: proportion, dtype: float64]"
      ]
     },
     "execution_count": 3,
     "metadata": {},
     "output_type": "execute_result"
    }
   ],
   "source": [
    "hs=img_dir/\"Higado_sano\"\n",
    "hsl=[\n",
    "        {\"file_path\": p.resolve(), \"category\": \"SANO\"}\n",
    "        for p in hs.iterdir()\n",
    "        if p.is_file()\n",
    "    ]\n",
    "\n",
    "hc=img_dir/\"Higado_con_cirrosis\"\n",
    "hcl=[\n",
    "        {\"file_path\": p.resolve(), \"category\": \"CIRROSIS\"}\n",
    "        for p in hc.iterdir()\n",
    "        if p.is_file()\n",
    "    ]\n",
    "\n",
    "\n",
    "hcc=img_dir/\"Higado_con_hepatocarcinoma\"\n",
    "hccl=[\n",
    "        {\"file_path\": p.resolve(), \"category\": \"HCC\"}\n",
    "        for p in hcc.iterdir()\n",
    "        if p.is_file()\n",
    "    ]\n",
    "df=pd.DataFrame(hsl+hcl+hccl)\n",
    "all_img_pre=df.category.value_counts().sum()\n",
    "[df.category.value_counts(),df.category.value_counts(normalize=True).mul(100).round(2)]"
   ]
  },
  {
   "cell_type": "code",
   "execution_count": null,
   "id": "8e1b2f4d",
   "metadata": {},
   "outputs": [
    {
     "name": "stdout",
     "output_type": "stream",
     "text": [
      "/home/diego/Coding/Python/TFG_HCCAI/code/notebooks/../../data/csv/onedrive\n",
      "/home/diego/Coding/Python/TFG_HCCAI/code/notebooks/../../data/csv/onedrive/onedrive_2025_06_28_05_30_20.csv\n"
     ]
    },
    {
     "data": {
      "text/plain": [
       "[category\n",
       " Higado_sano                   243\n",
       " Higado_con_cirrosis            90\n",
       " Higado_con_hepatocarcinoma     35\n",
       " Name: count, dtype: int64,\n",
       " category\n",
       " Higado_sano                   66.03\n",
       " Higado_con_cirrosis           24.46\n",
       " Higado_con_hepatocarcinoma     9.51\n",
       " Name: proportion, dtype: float64]"
      ]
     },
     "execution_count": 6,
     "metadata": {},
     "output_type": "execute_result"
    }
   ],
   "source": [
    "df_dir=csv_path=Path.cwd()/\"../../data/csv/onedrive\"\n",
    "print(df_dir)\n",
    "\n",
    "df_file = get_newest_file(df_dir)\n",
    "print(df_file)\n",
    "\n",
    "df=pd.read_csv(df_file)\n",
    "all_img_post=df.category.value_counts().sum()\n",
    "[df.category.value_counts(),df.category.value_counts(normalize=True).mul(100).round(2)]"
   ]
  },
  {
   "cell_type": "code",
   "execution_count": null,
   "id": "4c6f696d",
   "metadata": {},
   "outputs": [
    {
     "data": {
      "text/plain": [
       "np.float64(38.57442348008386)"
      ]
     },
     "execution_count": 5,
     "metadata": {},
     "output_type": "execute_result"
    }
   ],
   "source": [
    "(all_img_post/all_img_pre)*100"
   ]
  }
 ],
 "metadata": {
  "kernelspec": {
   "display_name": "tfg",
   "language": "python",
   "name": "python3"
  },
  "language_info": {
   "codemirror_mode": {
    "name": "ipython",
    "version": 3
   },
   "file_extension": ".py",
   "mimetype": "text/x-python",
   "name": "python",
   "nbconvert_exporter": "python",
   "pygments_lexer": "ipython3",
   "version": "3.12.3"
  }
 },
 "nbformat": 4,
 "nbformat_minor": 5
}
